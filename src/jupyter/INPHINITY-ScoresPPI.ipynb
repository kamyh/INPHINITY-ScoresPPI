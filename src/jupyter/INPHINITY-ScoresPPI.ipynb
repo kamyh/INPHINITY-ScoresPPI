{
 "cells": [
  {
   "cell_type": "code",
   "execution_count": 16,
   "metadata": {
    "collapsed": false,
    "scrolled": false
   },
   "outputs": [
    {
     "name": "stdout",
     "output_type": "stream",
     "text": [
      "Start\n",
      "Parsing Data\n"
     ]
    }
   ],
   "source": [
    "import matplotlib.pyplot as plt\n",
    "%matplotlib inline\n",
    "import numpy as np\n",
    "import csv\n",
    "\n",
    "class PPI():\n",
    "    def __init__(self):\n",
    "        self.data = None\n",
    "    \n",
    "    def display_histo(self):\n",
    "        gaussian_numbers = np.random.randn(1000)\n",
    "        plt.hist(gaussian_numbers)\n",
    "        plt.title(\"Inphinity\")\n",
    "        plt.xlabel(\"Score\")\n",
    "        plt.ylabel(\"Counts\")\n",
    "\n",
    "        plt.show()\n",
    "        \n",
    "    def parser(self, filename, verbose):\n",
    "        print('Parsing Data')\n",
    "        spamReader = csv.reader(open(filename, newline=''), delimiter=' ', quotechar='|')\n",
    "        self.data = spamReader\n",
    "        \n",
    "        if verbose:\n",
    "            for row in spamReader:\n",
    "                print(', '.join(row))\n",
    "\n",
    "if __name__ == '__main__':\n",
    "    print(\"Start\")\n",
    "    \n",
    "    ppi = PPI()\n",
    "    ppi.parser('./dataset/HEIGE.csv', False)\n",
    "\n",
    "    "
   ]
  },
  {
   "cell_type": "code",
   "execution_count": null,
   "metadata": {
    "collapsed": true
   },
   "outputs": [],
   "source": []
  }
 ],
 "metadata": {
  "kernelspec": {
   "display_name": "Python 3",
   "language": "python",
   "name": "python3"
  },
  "language_info": {
   "codemirror_mode": {
    "name": "ipython",
    "version": 3
   },
   "file_extension": ".py",
   "mimetype": "text/x-python",
   "name": "python",
   "nbconvert_exporter": "python",
   "pygments_lexer": "ipython3",
   "version": "3.5.1"
  }
 },
 "nbformat": 4,
 "nbformat_minor": 0
}
